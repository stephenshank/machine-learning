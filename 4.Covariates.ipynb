{
 "cells": [
  {
   "cell_type": "markdown",
   "metadata": {},
   "source": [
    "# Incorporating covariate information into classifiers"
   ]
  },
  {
   "cell_type": "markdown",
   "metadata": {},
   "source": [
    "Daniel has shown that the sample data possesses covariates in <a href='https://github.com/cognoma/cancer-data/blob/master/3.explore-mutations.ipynb'>this notebook</a>. These may provide a spurious signal that a classifier accommodates for, and could confound attempts to pick out the actual signal we desire. This notebook will create a file with encoded information on these covariates that can be used as additional data to train on."
   ]
  },
  {
   "cell_type": "code",
   "execution_count": 1,
   "metadata": {
    "collapsed": true
   },
   "outputs": [],
   "source": [
    "import pandas as pd\n",
    "import os\n",
    "import numpy as np\n",
    "import matplotlib.pyplot as plt\n",
    "import seaborn as sns\n",
    "import warnings\n",
    "from sklearn import preprocessing, grid_search\n",
    "from sklearn.linear_model import SGDClassifier\n",
    "from sklearn.cross_validation import train_test_split\n",
    "from sklearn.metrics import roc_auc_score, roc_curve\n",
    "from sklearn.pipeline import make_pipeline\n",
    "from sklearn.preprocessing import StandardScaler\n",
    "from sklearn.feature_selection import SelectKBest\n",
    "from statsmodels.robust.scale import mad\n",
    "%matplotlib inline"
   ]
  },
  {
   "cell_type": "markdown",
   "metadata": {},
   "source": [
    "Let's peak at the sample data."
   ]
  },
  {
   "cell_type": "code",
   "execution_count": 2,
   "metadata": {
    "collapsed": false
   },
   "outputs": [
    {
     "data": {
      "text/html": [
       "<div>\n",
       "<table border=\"1\" class=\"dataframe\">\n",
       "  <thead>\n",
       "    <tr style=\"text-align: right;\">\n",
       "      <th></th>\n",
       "      <th>patient_id</th>\n",
       "      <th>sample_type</th>\n",
       "      <th>disease</th>\n",
       "      <th>organ_of_origin</th>\n",
       "      <th>gender</th>\n",
       "      <th>age_diagnosed</th>\n",
       "      <th>dead</th>\n",
       "      <th>days_survived</th>\n",
       "      <th>recurred</th>\n",
       "      <th>days_recurrence_free</th>\n",
       "    </tr>\n",
       "    <tr>\n",
       "      <th>sample_id</th>\n",
       "      <th></th>\n",
       "      <th></th>\n",
       "      <th></th>\n",
       "      <th></th>\n",
       "      <th></th>\n",
       "      <th></th>\n",
       "      <th></th>\n",
       "      <th></th>\n",
       "      <th></th>\n",
       "      <th></th>\n",
       "    </tr>\n",
       "  </thead>\n",
       "  <tbody>\n",
       "    <tr>\n",
       "      <th>TCGA-02-0047-01</th>\n",
       "      <td>TCGA-02-0047</td>\n",
       "      <td>Primary Tumor</td>\n",
       "      <td>glioblastoma multiforme</td>\n",
       "      <td>Brain</td>\n",
       "      <td>Male</td>\n",
       "      <td>78.0</td>\n",
       "      <td>1.0</td>\n",
       "      <td>448.0</td>\n",
       "      <td>NaN</td>\n",
       "      <td>NaN</td>\n",
       "    </tr>\n",
       "    <tr>\n",
       "      <th>TCGA-02-0055-01</th>\n",
       "      <td>TCGA-02-0055</td>\n",
       "      <td>Primary Tumor</td>\n",
       "      <td>glioblastoma multiforme</td>\n",
       "      <td>Brain</td>\n",
       "      <td>Female</td>\n",
       "      <td>62.0</td>\n",
       "      <td>1.0</td>\n",
       "      <td>76.0</td>\n",
       "      <td>NaN</td>\n",
       "      <td>NaN</td>\n",
       "    </tr>\n",
       "    <tr>\n",
       "      <th>TCGA-02-2483-01</th>\n",
       "      <td>TCGA-02-2483</td>\n",
       "      <td>Primary Tumor</td>\n",
       "      <td>glioblastoma multiforme</td>\n",
       "      <td>Brain</td>\n",
       "      <td>Male</td>\n",
       "      <td>43.0</td>\n",
       "      <td>0.0</td>\n",
       "      <td>466.0</td>\n",
       "      <td>NaN</td>\n",
       "      <td>NaN</td>\n",
       "    </tr>\n",
       "    <tr>\n",
       "      <th>TCGA-02-2485-01</th>\n",
       "      <td>TCGA-02-2485</td>\n",
       "      <td>Primary Tumor</td>\n",
       "      <td>glioblastoma multiforme</td>\n",
       "      <td>Brain</td>\n",
       "      <td>Male</td>\n",
       "      <td>53.0</td>\n",
       "      <td>0.0</td>\n",
       "      <td>470.0</td>\n",
       "      <td>NaN</td>\n",
       "      <td>NaN</td>\n",
       "    </tr>\n",
       "    <tr>\n",
       "      <th>TCGA-02-2486-01</th>\n",
       "      <td>TCGA-02-2486</td>\n",
       "      <td>Primary Tumor</td>\n",
       "      <td>glioblastoma multiforme</td>\n",
       "      <td>Brain</td>\n",
       "      <td>Male</td>\n",
       "      <td>64.0</td>\n",
       "      <td>0.0</td>\n",
       "      <td>493.0</td>\n",
       "      <td>NaN</td>\n",
       "      <td>NaN</td>\n",
       "    </tr>\n",
       "    <tr>\n",
       "      <th>TCGA-04-1348-01</th>\n",
       "      <td>TCGA-04-1348</td>\n",
       "      <td>Primary Tumor</td>\n",
       "      <td>ovarian serous cystadenocarcinoma</td>\n",
       "      <td>Ovary</td>\n",
       "      <td>Female</td>\n",
       "      <td>44.0</td>\n",
       "      <td>1.0</td>\n",
       "      <td>1483.0</td>\n",
       "      <td>NaN</td>\n",
       "      <td>NaN</td>\n",
       "    </tr>\n",
       "    <tr>\n",
       "      <th>TCGA-04-1357-01</th>\n",
       "      <td>TCGA-04-1357</td>\n",
       "      <td>Primary Tumor</td>\n",
       "      <td>ovarian serous cystadenocarcinoma</td>\n",
       "      <td>Ovary</td>\n",
       "      <td>Female</td>\n",
       "      <td>52.0</td>\n",
       "      <td>NaN</td>\n",
       "      <td>NaN</td>\n",
       "      <td>NaN</td>\n",
       "      <td>NaN</td>\n",
       "    </tr>\n",
       "    <tr>\n",
       "      <th>TCGA-04-1362-01</th>\n",
       "      <td>TCGA-04-1362</td>\n",
       "      <td>Primary Tumor</td>\n",
       "      <td>ovarian serous cystadenocarcinoma</td>\n",
       "      <td>Ovary</td>\n",
       "      <td>Female</td>\n",
       "      <td>59.0</td>\n",
       "      <td>1.0</td>\n",
       "      <td>1348.0</td>\n",
       "      <td>NaN</td>\n",
       "      <td>NaN</td>\n",
       "    </tr>\n",
       "    <tr>\n",
       "      <th>TCGA-05-4244-01</th>\n",
       "      <td>TCGA-05-4244</td>\n",
       "      <td>Primary Tumor</td>\n",
       "      <td>lung adenocarcinoma</td>\n",
       "      <td>Lung</td>\n",
       "      <td>Male</td>\n",
       "      <td>70.0</td>\n",
       "      <td>NaN</td>\n",
       "      <td>NaN</td>\n",
       "      <td>NaN</td>\n",
       "      <td>NaN</td>\n",
       "    </tr>\n",
       "    <tr>\n",
       "      <th>TCGA-05-4249-01</th>\n",
       "      <td>TCGA-05-4249</td>\n",
       "      <td>Primary Tumor</td>\n",
       "      <td>lung adenocarcinoma</td>\n",
       "      <td>Lung</td>\n",
       "      <td>Male</td>\n",
       "      <td>67.0</td>\n",
       "      <td>0.0</td>\n",
       "      <td>1523.0</td>\n",
       "      <td>0.0</td>\n",
       "      <td>1523.0</td>\n",
       "    </tr>\n",
       "  </tbody>\n",
       "</table>\n",
       "</div>"
      ],
      "text/plain": [
       "                   patient_id    sample_type  \\\n",
       "sample_id                                      \n",
       "TCGA-02-0047-01  TCGA-02-0047  Primary Tumor   \n",
       "TCGA-02-0055-01  TCGA-02-0055  Primary Tumor   \n",
       "TCGA-02-2483-01  TCGA-02-2483  Primary Tumor   \n",
       "TCGA-02-2485-01  TCGA-02-2485  Primary Tumor   \n",
       "TCGA-02-2486-01  TCGA-02-2486  Primary Tumor   \n",
       "TCGA-04-1348-01  TCGA-04-1348  Primary Tumor   \n",
       "TCGA-04-1357-01  TCGA-04-1357  Primary Tumor   \n",
       "TCGA-04-1362-01  TCGA-04-1362  Primary Tumor   \n",
       "TCGA-05-4244-01  TCGA-05-4244  Primary Tumor   \n",
       "TCGA-05-4249-01  TCGA-05-4249  Primary Tumor   \n",
       "\n",
       "                                           disease organ_of_origin  gender  \\\n",
       "sample_id                                                                    \n",
       "TCGA-02-0047-01            glioblastoma multiforme           Brain    Male   \n",
       "TCGA-02-0055-01            glioblastoma multiforme           Brain  Female   \n",
       "TCGA-02-2483-01            glioblastoma multiforme           Brain    Male   \n",
       "TCGA-02-2485-01            glioblastoma multiforme           Brain    Male   \n",
       "TCGA-02-2486-01            glioblastoma multiforme           Brain    Male   \n",
       "TCGA-04-1348-01  ovarian serous cystadenocarcinoma           Ovary  Female   \n",
       "TCGA-04-1357-01  ovarian serous cystadenocarcinoma           Ovary  Female   \n",
       "TCGA-04-1362-01  ovarian serous cystadenocarcinoma           Ovary  Female   \n",
       "TCGA-05-4244-01                lung adenocarcinoma            Lung    Male   \n",
       "TCGA-05-4249-01                lung adenocarcinoma            Lung    Male   \n",
       "\n",
       "                 age_diagnosed  dead  days_survived  recurred  \\\n",
       "sample_id                                                       \n",
       "TCGA-02-0047-01           78.0   1.0          448.0       NaN   \n",
       "TCGA-02-0055-01           62.0   1.0           76.0       NaN   \n",
       "TCGA-02-2483-01           43.0   0.0          466.0       NaN   \n",
       "TCGA-02-2485-01           53.0   0.0          470.0       NaN   \n",
       "TCGA-02-2486-01           64.0   0.0          493.0       NaN   \n",
       "TCGA-04-1348-01           44.0   1.0         1483.0       NaN   \n",
       "TCGA-04-1357-01           52.0   NaN            NaN       NaN   \n",
       "TCGA-04-1362-01           59.0   1.0         1348.0       NaN   \n",
       "TCGA-05-4244-01           70.0   NaN            NaN       NaN   \n",
       "TCGA-05-4249-01           67.0   0.0         1523.0       0.0   \n",
       "\n",
       "                 days_recurrence_free  \n",
       "sample_id                              \n",
       "TCGA-02-0047-01                   NaN  \n",
       "TCGA-02-0055-01                   NaN  \n",
       "TCGA-02-2483-01                   NaN  \n",
       "TCGA-02-2485-01                   NaN  \n",
       "TCGA-02-2486-01                   NaN  \n",
       "TCGA-04-1348-01                   NaN  \n",
       "TCGA-04-1357-01                   NaN  \n",
       "TCGA-04-1362-01                   NaN  \n",
       "TCGA-05-4244-01                   NaN  \n",
       "TCGA-05-4249-01                1523.0  "
      ]
     },
     "execution_count": 2,
     "metadata": {},
     "output_type": "execute_result"
    }
   ],
   "source": [
    "samples_df = pd.read_table('download/samples.tsv', index_col=0)\n",
    "samples_df.head(10)"
   ]
  },
  {
   "cell_type": "markdown",
   "metadata": {},
   "source": [
    "Let's get a sense of how much missing data there is."
   ]
  },
  {
   "cell_type": "code",
   "execution_count": 3,
   "metadata": {
    "collapsed": false
   },
   "outputs": [
    {
     "name": "stdout",
     "output_type": "stream",
     "text": [
      "Total number of samples: 7306\n",
      "Number of nulls in each column:\n"
     ]
    },
    {
     "data": {
      "text/plain": [
       "patient_id                 0\n",
       "sample_type                0\n",
       "disease                    0\n",
       "organ_of_origin            0\n",
       "gender                    19\n",
       "age_diagnosed             50\n",
       "dead                     111\n",
       "days_survived            111\n",
       "recurred                1638\n",
       "days_recurrence_free    1638\n",
       "dtype: int64"
      ]
     },
     "execution_count": 3,
     "metadata": {},
     "output_type": "execute_result"
    }
   ],
   "source": [
    "print('Total number of samples: %d' % len(samples_df))\n",
    "print('Number of nulls in each column:')\n",
    "samples_df.isnull().sum(axis=0)"
   ]
  },
  {
   "cell_type": "markdown",
   "metadata": {},
   "source": [
    "Now count the number of types of each column. We'll use Python's set, and therefore must exclude null values."
   ]
  },
  {
   "cell_type": "code",
   "execution_count": 4,
   "metadata": {
    "collapsed": false
   },
   "outputs": [
    {
     "name": "stdout",
     "output_type": "stream",
     "text": [
      "Number of types in category sample_type: 1\n",
      "Number of types in category disease: 32\n",
      "Number of types in category organ_of_origin: 28\n",
      "Number of types in category gender: 2\n",
      "Number of types in category dead: 2\n",
      "Number of types in category recurred: 2\n"
     ]
    }
   ],
   "source": [
    "categorical_variables = samples_df.columns[[1, 2, 3, 4, 6, 8]]\n",
    "for variable in categorical_variables:\n",
    "    not_null = ~samples_df[variable].isnull()\n",
    "    count = len(set(samples_df.loc[not_null, variable]))\n",
    "    print('Number of types in category %s: %d' % (variable, count))"
   ]
  },
  {
   "cell_type": "markdown",
   "metadata": {},
   "source": [
    "There are no missing values from <code>sample_types</code> and only one possible value, so it is redundant and we'll exclude it."
   ]
  },
  {
   "cell_type": "code",
   "execution_count": 5,
   "metadata": {
    "collapsed": false
   },
   "outputs": [
    {
     "name": "stdout",
     "output_type": "stream",
     "text": [
      "Index(['disease', 'organ_of_origin', 'gender', 'dead', 'recurred'], dtype='object')\n"
     ]
    }
   ],
   "source": [
    "categorical_variables = categorical_variables[1:]\n",
    "print(categorical_variables)"
   ]
  },
  {
   "cell_type": "markdown",
   "metadata": {},
   "source": [
    "Inspecting the head of the samples DataFrame above, we see that two columns, namely <code>dead</code> and <code>recurred</code>, need some attention. We're going to encode categorical variables using panda's get_dummies. Since these columns are indicated by a 1 or 0, this will become the column header when encoded, as below."
   ]
  },
  {
   "cell_type": "code",
   "execution_count": 6,
   "metadata": {
    "collapsed": false
   },
   "outputs": [
    {
     "data": {
      "text/html": [
       "<div>\n",
       "<table border=\"1\" class=\"dataframe\">\n",
       "  <thead>\n",
       "    <tr style=\"text-align: right;\">\n",
       "      <th></th>\n",
       "      <th>0.0</th>\n",
       "      <th>1.0</th>\n",
       "    </tr>\n",
       "    <tr>\n",
       "      <th>sample_id</th>\n",
       "      <th></th>\n",
       "      <th></th>\n",
       "    </tr>\n",
       "  </thead>\n",
       "  <tbody>\n",
       "    <tr>\n",
       "      <th>TCGA-02-0047-01</th>\n",
       "      <td>0.0</td>\n",
       "      <td>1.0</td>\n",
       "    </tr>\n",
       "    <tr>\n",
       "      <th>TCGA-02-0055-01</th>\n",
       "      <td>0.0</td>\n",
       "      <td>1.0</td>\n",
       "    </tr>\n",
       "    <tr>\n",
       "      <th>TCGA-02-2483-01</th>\n",
       "      <td>1.0</td>\n",
       "      <td>0.0</td>\n",
       "    </tr>\n",
       "    <tr>\n",
       "      <th>TCGA-02-2485-01</th>\n",
       "      <td>1.0</td>\n",
       "      <td>0.0</td>\n",
       "    </tr>\n",
       "    <tr>\n",
       "      <th>TCGA-02-2486-01</th>\n",
       "      <td>1.0</td>\n",
       "      <td>0.0</td>\n",
       "    </tr>\n",
       "    <tr>\n",
       "      <th>TCGA-04-1348-01</th>\n",
       "      <td>0.0</td>\n",
       "      <td>1.0</td>\n",
       "    </tr>\n",
       "    <tr>\n",
       "      <th>TCGA-04-1357-01</th>\n",
       "      <td>0.0</td>\n",
       "      <td>0.0</td>\n",
       "    </tr>\n",
       "    <tr>\n",
       "      <th>TCGA-04-1362-01</th>\n",
       "      <td>0.0</td>\n",
       "      <td>1.0</td>\n",
       "    </tr>\n",
       "    <tr>\n",
       "      <th>TCGA-05-4244-01</th>\n",
       "      <td>0.0</td>\n",
       "      <td>0.0</td>\n",
       "    </tr>\n",
       "    <tr>\n",
       "      <th>TCGA-05-4249-01</th>\n",
       "      <td>1.0</td>\n",
       "      <td>0.0</td>\n",
       "    </tr>\n",
       "  </tbody>\n",
       "</table>\n",
       "</div>"
      ],
      "text/plain": [
       "                 0.0  1.0\n",
       "sample_id                \n",
       "TCGA-02-0047-01  0.0  1.0\n",
       "TCGA-02-0055-01  0.0  1.0\n",
       "TCGA-02-2483-01  1.0  0.0\n",
       "TCGA-02-2485-01  1.0  0.0\n",
       "TCGA-02-2486-01  1.0  0.0\n",
       "TCGA-04-1348-01  0.0  1.0\n",
       "TCGA-04-1357-01  0.0  0.0\n",
       "TCGA-04-1362-01  0.0  1.0\n",
       "TCGA-05-4244-01  0.0  0.0\n",
       "TCGA-05-4249-01  1.0  0.0"
      ]
     },
     "execution_count": 6,
     "metadata": {},
     "output_type": "execute_result"
    }
   ],
   "source": [
    "pd.get_dummies(samples_df.dead).head(10)"
   ]
  },
  {
   "cell_type": "markdown",
   "metadata": {},
   "source": [
    "Note that null values are encoded as (0,0) pairs... I was wondering if we were okay with this.\n",
    "\n",
    "Let's rename the values in each of these so that they more accurately reflect the underlying variable."
   ]
  },
  {
   "cell_type": "code",
   "execution_count": 7,
   "metadata": {
    "collapsed": false
   },
   "outputs": [
    {
     "data": {
      "text/plain": [
       "sample_id\n",
       "TCGA-02-0047-01     dead\n",
       "TCGA-02-0055-01     dead\n",
       "TCGA-02-2483-01    alive\n",
       "TCGA-02-2485-01    alive\n",
       "TCGA-02-2486-01    alive\n",
       "TCGA-04-1348-01     dead\n",
       "TCGA-04-1357-01      NaN\n",
       "TCGA-04-1362-01     dead\n",
       "TCGA-05-4244-01      NaN\n",
       "TCGA-05-4249-01    alive\n",
       "Name: dead, dtype: object"
      ]
     },
     "execution_count": 7,
     "metadata": {},
     "output_type": "execute_result"
    }
   ],
   "source": [
    "mortality_map = pd.Series(['alive', 'dead'], index=[0.0, 1.0])\n",
    "mortality = samples_df.dead.map(mortality_map)\n",
    "mortality.head(10)"
   ]
  },
  {
   "cell_type": "code",
   "execution_count": 8,
   "metadata": {
    "collapsed": false
   },
   "outputs": [
    {
     "data": {
      "text/plain": [
       "sample_id\n",
       "TCGA-02-0047-01                 NaN\n",
       "TCGA-02-0055-01                 NaN\n",
       "TCGA-02-2483-01                 NaN\n",
       "TCGA-02-2485-01                 NaN\n",
       "TCGA-02-2486-01                 NaN\n",
       "TCGA-04-1348-01                 NaN\n",
       "TCGA-04-1357-01                 NaN\n",
       "TCGA-04-1362-01                 NaN\n",
       "TCGA-05-4244-01                 NaN\n",
       "TCGA-05-4249-01    has_not_recurred\n",
       "Name: recurred, dtype: object"
      ]
     },
     "execution_count": 8,
     "metadata": {},
     "output_type": "execute_result"
    }
   ],
   "source": [
    "recurred_map = pd.Series(['has_not_recurred', 'has_recurred'], index=[0.0, 1.0])\n",
    "recurred = samples_df.recurred.map(recurred_map)\n",
    "recurred.head(10)"
   ]
  },
  {
   "cell_type": "markdown",
   "metadata": {},
   "source": [
    "Now when we concatenate, the columns are appropriately named, and the values are encoded as numeric data that can be input to the types of classifiers that we have been using."
   ]
  },
  {
   "cell_type": "code",
   "execution_count": 9,
   "metadata": {
    "collapsed": false
   },
   "outputs": [
    {
     "data": {
      "text/html": [
       "<div>\n",
       "<table border=\"1\" class=\"dataframe\">\n",
       "  <thead>\n",
       "    <tr style=\"text-align: right;\">\n",
       "      <th></th>\n",
       "      <th>alive</th>\n",
       "      <th>dead</th>\n",
       "      <th>has_not_recurred</th>\n",
       "      <th>has_recurred</th>\n",
       "    </tr>\n",
       "    <tr>\n",
       "      <th>sample_id</th>\n",
       "      <th></th>\n",
       "      <th></th>\n",
       "      <th></th>\n",
       "      <th></th>\n",
       "    </tr>\n",
       "  </thead>\n",
       "  <tbody>\n",
       "    <tr>\n",
       "      <th>TCGA-02-0047-01</th>\n",
       "      <td>0.0</td>\n",
       "      <td>1.0</td>\n",
       "      <td>0.0</td>\n",
       "      <td>0.0</td>\n",
       "    </tr>\n",
       "    <tr>\n",
       "      <th>TCGA-02-0055-01</th>\n",
       "      <td>0.0</td>\n",
       "      <td>1.0</td>\n",
       "      <td>0.0</td>\n",
       "      <td>0.0</td>\n",
       "    </tr>\n",
       "    <tr>\n",
       "      <th>TCGA-02-2483-01</th>\n",
       "      <td>1.0</td>\n",
       "      <td>0.0</td>\n",
       "      <td>0.0</td>\n",
       "      <td>0.0</td>\n",
       "    </tr>\n",
       "    <tr>\n",
       "      <th>TCGA-02-2485-01</th>\n",
       "      <td>1.0</td>\n",
       "      <td>0.0</td>\n",
       "      <td>0.0</td>\n",
       "      <td>0.0</td>\n",
       "    </tr>\n",
       "    <tr>\n",
       "      <th>TCGA-02-2486-01</th>\n",
       "      <td>1.0</td>\n",
       "      <td>0.0</td>\n",
       "      <td>0.0</td>\n",
       "      <td>0.0</td>\n",
       "    </tr>\n",
       "    <tr>\n",
       "      <th>TCGA-04-1348-01</th>\n",
       "      <td>0.0</td>\n",
       "      <td>1.0</td>\n",
       "      <td>0.0</td>\n",
       "      <td>0.0</td>\n",
       "    </tr>\n",
       "    <tr>\n",
       "      <th>TCGA-04-1357-01</th>\n",
       "      <td>0.0</td>\n",
       "      <td>0.0</td>\n",
       "      <td>0.0</td>\n",
       "      <td>0.0</td>\n",
       "    </tr>\n",
       "    <tr>\n",
       "      <th>TCGA-04-1362-01</th>\n",
       "      <td>0.0</td>\n",
       "      <td>1.0</td>\n",
       "      <td>0.0</td>\n",
       "      <td>0.0</td>\n",
       "    </tr>\n",
       "    <tr>\n",
       "      <th>TCGA-05-4244-01</th>\n",
       "      <td>0.0</td>\n",
       "      <td>0.0</td>\n",
       "      <td>0.0</td>\n",
       "      <td>0.0</td>\n",
       "    </tr>\n",
       "    <tr>\n",
       "      <th>TCGA-05-4249-01</th>\n",
       "      <td>1.0</td>\n",
       "      <td>0.0</td>\n",
       "      <td>1.0</td>\n",
       "      <td>0.0</td>\n",
       "    </tr>\n",
       "  </tbody>\n",
       "</table>\n",
       "</div>"
      ],
      "text/plain": [
       "                 alive  dead  has_not_recurred  has_recurred\n",
       "sample_id                                                   \n",
       "TCGA-02-0047-01    0.0   1.0               0.0           0.0\n",
       "TCGA-02-0055-01    0.0   1.0               0.0           0.0\n",
       "TCGA-02-2483-01    1.0   0.0               0.0           0.0\n",
       "TCGA-02-2485-01    1.0   0.0               0.0           0.0\n",
       "TCGA-02-2486-01    1.0   0.0               0.0           0.0\n",
       "TCGA-04-1348-01    0.0   1.0               0.0           0.0\n",
       "TCGA-04-1357-01    0.0   0.0               0.0           0.0\n",
       "TCGA-04-1362-01    0.0   1.0               0.0           0.0\n",
       "TCGA-05-4244-01    0.0   0.0               0.0           0.0\n",
       "TCGA-05-4249-01    1.0   0.0               1.0           0.0"
      ]
     },
     "execution_count": 9,
     "metadata": {},
     "output_type": "execute_result"
    }
   ],
   "source": [
    "pd.concat([pd.get_dummies(mortality), pd.get_dummies(recurred)], axis=1).head(10)"
   ]
  },
  {
   "cell_type": "markdown",
   "metadata": {},
   "source": [
    "Let's process the entire thing. We'll convert the categorical variables to dummies, and then concatenate the numeric variables (age of diagnosis, days survived, and days recurrence free)."
   ]
  },
  {
   "cell_type": "code",
   "execution_count": 10,
   "metadata": {
    "collapsed": false
   },
   "outputs": [
    {
     "data": {
      "text/html": [
       "<div>\n",
       "<table border=\"1\" class=\"dataframe\">\n",
       "  <thead>\n",
       "    <tr style=\"text-align: right;\">\n",
       "      <th></th>\n",
       "      <th>adrenocortical cancer</th>\n",
       "      <th>bladder urothelial carcinoma</th>\n",
       "      <th>brain lower grade glioma</th>\n",
       "      <th>breast invasive carcinoma</th>\n",
       "      <th>cervical &amp; endocervical cancer</th>\n",
       "      <th>cholangiocarcinoma</th>\n",
       "      <th>colon adenocarcinoma</th>\n",
       "      <th>diffuse large B-cell lymphoma</th>\n",
       "      <th>esophageal carcinoma</th>\n",
       "      <th>glioblastoma multiforme</th>\n",
       "      <th>...</th>\n",
       "      <th>Uterus</th>\n",
       "      <th>Female</th>\n",
       "      <th>Male</th>\n",
       "      <th>alive</th>\n",
       "      <th>dead</th>\n",
       "      <th>has_not_recurred</th>\n",
       "      <th>has_recurred</th>\n",
       "      <th>age_diagnosed</th>\n",
       "      <th>days_survived</th>\n",
       "      <th>days_recurrence_free</th>\n",
       "    </tr>\n",
       "    <tr>\n",
       "      <th>sample_id</th>\n",
       "      <th></th>\n",
       "      <th></th>\n",
       "      <th></th>\n",
       "      <th></th>\n",
       "      <th></th>\n",
       "      <th></th>\n",
       "      <th></th>\n",
       "      <th></th>\n",
       "      <th></th>\n",
       "      <th></th>\n",
       "      <th></th>\n",
       "      <th></th>\n",
       "      <th></th>\n",
       "      <th></th>\n",
       "      <th></th>\n",
       "      <th></th>\n",
       "      <th></th>\n",
       "      <th></th>\n",
       "      <th></th>\n",
       "      <th></th>\n",
       "      <th></th>\n",
       "    </tr>\n",
       "  </thead>\n",
       "  <tbody>\n",
       "    <tr>\n",
       "      <th>TCGA-02-0047-01</th>\n",
       "      <td>0.0</td>\n",
       "      <td>0.0</td>\n",
       "      <td>0.0</td>\n",
       "      <td>0.0</td>\n",
       "      <td>0.0</td>\n",
       "      <td>0.0</td>\n",
       "      <td>0.0</td>\n",
       "      <td>0.0</td>\n",
       "      <td>0.0</td>\n",
       "      <td>1.0</td>\n",
       "      <td>...</td>\n",
       "      <td>0.0</td>\n",
       "      <td>0.0</td>\n",
       "      <td>1.0</td>\n",
       "      <td>0.0</td>\n",
       "      <td>1.0</td>\n",
       "      <td>0.0</td>\n",
       "      <td>0.0</td>\n",
       "      <td>78.0</td>\n",
       "      <td>448.0</td>\n",
       "      <td>NaN</td>\n",
       "    </tr>\n",
       "    <tr>\n",
       "      <th>TCGA-02-0055-01</th>\n",
       "      <td>0.0</td>\n",
       "      <td>0.0</td>\n",
       "      <td>0.0</td>\n",
       "      <td>0.0</td>\n",
       "      <td>0.0</td>\n",
       "      <td>0.0</td>\n",
       "      <td>0.0</td>\n",
       "      <td>0.0</td>\n",
       "      <td>0.0</td>\n",
       "      <td>1.0</td>\n",
       "      <td>...</td>\n",
       "      <td>0.0</td>\n",
       "      <td>1.0</td>\n",
       "      <td>0.0</td>\n",
       "      <td>0.0</td>\n",
       "      <td>1.0</td>\n",
       "      <td>0.0</td>\n",
       "      <td>0.0</td>\n",
       "      <td>62.0</td>\n",
       "      <td>76.0</td>\n",
       "      <td>NaN</td>\n",
       "    </tr>\n",
       "    <tr>\n",
       "      <th>TCGA-02-2483-01</th>\n",
       "      <td>0.0</td>\n",
       "      <td>0.0</td>\n",
       "      <td>0.0</td>\n",
       "      <td>0.0</td>\n",
       "      <td>0.0</td>\n",
       "      <td>0.0</td>\n",
       "      <td>0.0</td>\n",
       "      <td>0.0</td>\n",
       "      <td>0.0</td>\n",
       "      <td>1.0</td>\n",
       "      <td>...</td>\n",
       "      <td>0.0</td>\n",
       "      <td>0.0</td>\n",
       "      <td>1.0</td>\n",
       "      <td>1.0</td>\n",
       "      <td>0.0</td>\n",
       "      <td>0.0</td>\n",
       "      <td>0.0</td>\n",
       "      <td>43.0</td>\n",
       "      <td>466.0</td>\n",
       "      <td>NaN</td>\n",
       "    </tr>\n",
       "    <tr>\n",
       "      <th>TCGA-02-2485-01</th>\n",
       "      <td>0.0</td>\n",
       "      <td>0.0</td>\n",
       "      <td>0.0</td>\n",
       "      <td>0.0</td>\n",
       "      <td>0.0</td>\n",
       "      <td>0.0</td>\n",
       "      <td>0.0</td>\n",
       "      <td>0.0</td>\n",
       "      <td>0.0</td>\n",
       "      <td>1.0</td>\n",
       "      <td>...</td>\n",
       "      <td>0.0</td>\n",
       "      <td>0.0</td>\n",
       "      <td>1.0</td>\n",
       "      <td>1.0</td>\n",
       "      <td>0.0</td>\n",
       "      <td>0.0</td>\n",
       "      <td>0.0</td>\n",
       "      <td>53.0</td>\n",
       "      <td>470.0</td>\n",
       "      <td>NaN</td>\n",
       "    </tr>\n",
       "    <tr>\n",
       "      <th>TCGA-02-2486-01</th>\n",
       "      <td>0.0</td>\n",
       "      <td>0.0</td>\n",
       "      <td>0.0</td>\n",
       "      <td>0.0</td>\n",
       "      <td>0.0</td>\n",
       "      <td>0.0</td>\n",
       "      <td>0.0</td>\n",
       "      <td>0.0</td>\n",
       "      <td>0.0</td>\n",
       "      <td>1.0</td>\n",
       "      <td>...</td>\n",
       "      <td>0.0</td>\n",
       "      <td>0.0</td>\n",
       "      <td>1.0</td>\n",
       "      <td>1.0</td>\n",
       "      <td>0.0</td>\n",
       "      <td>0.0</td>\n",
       "      <td>0.0</td>\n",
       "      <td>64.0</td>\n",
       "      <td>493.0</td>\n",
       "      <td>NaN</td>\n",
       "    </tr>\n",
       "  </tbody>\n",
       "</table>\n",
       "<p>5 rows × 69 columns</p>\n",
       "</div>"
      ],
      "text/plain": [
       "                 adrenocortical cancer  bladder urothelial carcinoma  \\\n",
       "sample_id                                                              \n",
       "TCGA-02-0047-01                    0.0                           0.0   \n",
       "TCGA-02-0055-01                    0.0                           0.0   \n",
       "TCGA-02-2483-01                    0.0                           0.0   \n",
       "TCGA-02-2485-01                    0.0                           0.0   \n",
       "TCGA-02-2486-01                    0.0                           0.0   \n",
       "\n",
       "                 brain lower grade glioma  breast invasive carcinoma  \\\n",
       "sample_id                                                              \n",
       "TCGA-02-0047-01                       0.0                        0.0   \n",
       "TCGA-02-0055-01                       0.0                        0.0   \n",
       "TCGA-02-2483-01                       0.0                        0.0   \n",
       "TCGA-02-2485-01                       0.0                        0.0   \n",
       "TCGA-02-2486-01                       0.0                        0.0   \n",
       "\n",
       "                 cervical & endocervical cancer  cholangiocarcinoma  \\\n",
       "sample_id                                                             \n",
       "TCGA-02-0047-01                             0.0                 0.0   \n",
       "TCGA-02-0055-01                             0.0                 0.0   \n",
       "TCGA-02-2483-01                             0.0                 0.0   \n",
       "TCGA-02-2485-01                             0.0                 0.0   \n",
       "TCGA-02-2486-01                             0.0                 0.0   \n",
       "\n",
       "                 colon adenocarcinoma  diffuse large B-cell lymphoma  \\\n",
       "sample_id                                                              \n",
       "TCGA-02-0047-01                   0.0                            0.0   \n",
       "TCGA-02-0055-01                   0.0                            0.0   \n",
       "TCGA-02-2483-01                   0.0                            0.0   \n",
       "TCGA-02-2485-01                   0.0                            0.0   \n",
       "TCGA-02-2486-01                   0.0                            0.0   \n",
       "\n",
       "                 esophageal carcinoma  glioblastoma multiforme  \\\n",
       "sample_id                                                        \n",
       "TCGA-02-0047-01                   0.0                      1.0   \n",
       "TCGA-02-0055-01                   0.0                      1.0   \n",
       "TCGA-02-2483-01                   0.0                      1.0   \n",
       "TCGA-02-2485-01                   0.0                      1.0   \n",
       "TCGA-02-2486-01                   0.0                      1.0   \n",
       "\n",
       "                         ...           Uterus  Female  Male  alive  dead  \\\n",
       "sample_id                ...                                               \n",
       "TCGA-02-0047-01          ...              0.0     0.0   1.0    0.0   1.0   \n",
       "TCGA-02-0055-01          ...              0.0     1.0   0.0    0.0   1.0   \n",
       "TCGA-02-2483-01          ...              0.0     0.0   1.0    1.0   0.0   \n",
       "TCGA-02-2485-01          ...              0.0     0.0   1.0    1.0   0.0   \n",
       "TCGA-02-2486-01          ...              0.0     0.0   1.0    1.0   0.0   \n",
       "\n",
       "                 has_not_recurred  has_recurred  age_diagnosed  days_survived  \\\n",
       "sample_id                                                                       \n",
       "TCGA-02-0047-01               0.0           0.0           78.0          448.0   \n",
       "TCGA-02-0055-01               0.0           0.0           62.0           76.0   \n",
       "TCGA-02-2483-01               0.0           0.0           43.0          466.0   \n",
       "TCGA-02-2485-01               0.0           0.0           53.0          470.0   \n",
       "TCGA-02-2486-01               0.0           0.0           64.0          493.0   \n",
       "\n",
       "                 days_recurrence_free  \n",
       "sample_id                              \n",
       "TCGA-02-0047-01                   NaN  \n",
       "TCGA-02-0055-01                   NaN  \n",
       "TCGA-02-2483-01                   NaN  \n",
       "TCGA-02-2485-01                   NaN  \n",
       "TCGA-02-2486-01                   NaN  \n",
       "\n",
       "[5 rows x 69 columns]"
      ]
     },
     "execution_count": 10,
     "metadata": {},
     "output_type": "execute_result"
    }
   ],
   "source": [
    "columns_to_process = [samples_df.disease,\n",
    "                      samples_df.organ_of_origin,\n",
    "                      samples_df.gender,\n",
    "                      mortality,\n",
    "                      recurred]\n",
    "columns_as_dummies = [pd.get_dummies(column) for column in columns_to_process]\n",
    "numeric_columns = ['age_diagnosed', 'days_survived', 'days_recurrence_free']\n",
    "covariates_df = pd.concat(columns_as_dummies+[samples_df[numeric_columns]], axis=1)\n",
    "covariates_df.head()"
   ]
  },
  {
   "cell_type": "markdown",
   "metadata": {},
   "source": [
    "We may want to do some standardization of column names as before (lower case, underscores).\n",
    "\n",
    "Let's save this to a <code>.tsv</code> file."
   ]
  },
  {
   "cell_type": "code",
   "execution_count": 11,
   "metadata": {
    "collapsed": false
   },
   "outputs": [],
   "source": [
    "path = os.path.join('download', 'covariates.tsv')\n",
    "covariates_df.to_csv(path, sep='\\t')"
   ]
  },
  {
   "cell_type": "markdown",
   "metadata": {
    "collapsed": true
   },
   "source": [
    "Now we'll try to see whether incorporating this information will help to improve the elastic net classifier that was explained at a past meetup."
   ]
  },
  {
   "cell_type": "code",
   "execution_count": 12,
   "metadata": {
    "collapsed": true
   },
   "outputs": [],
   "source": [
    "GENE = '7157' # TP53\n",
    "path = os.path.join('download', 'expression-matrix.tsv.bz2')\n",
    "X = pd.read_table(path, index_col=0)\n",
    "path = os.path.join('download', 'mutation-matrix.tsv.bz2')\n",
    "y = pd.read_table(path, index_col=0)[GENE]"
   ]
  },
  {
   "cell_type": "markdown",
   "metadata": {},
   "source": [
    "Replicate the classifier..."
   ]
  },
  {
   "cell_type": "code",
   "execution_count": 13,
   "metadata": {
    "collapsed": false
   },
   "outputs": [],
   "source": [
    "def fs_mad(x, y):\n",
    "    \"\"\"    \n",
    "    Get the median absolute deviation (MAD) for each column of x\n",
    "    \"\"\"\n",
    "    scores = mad(x) \n",
    "    return scores, np.array([np.NaN]*len(scores))\n",
    "\n",
    "def get_threshold_metrics(y_true, y_pred):\n",
    "    roc_columns = ['fpr', 'tpr', 'threshold']\n",
    "    roc_items = zip(roc_columns, roc_curve(y_true, y_pred))\n",
    "    roc_df = pd.DataFrame.from_items(roc_items)\n",
    "    auroc = roc_auc_score(y_true, y_pred)\n",
    "    return {'auroc': auroc, 'roc_df': roc_df}\n",
    "\n",
    "def gway_classifier(X, y):\n",
    "    n_feature_kept = 500\n",
    "    param_fixed = {\n",
    "        'loss': 'log',\n",
    "        'penalty': 'elasticnet',\n",
    "    }\n",
    "    param_grid = {\n",
    "        'alpha': [10 ** x for x in range(-6, 1)],\n",
    "        'l1_ratio': [0, 0.05, 0.1, 0.2, 0.5, 0.8, 0.9, 0.95, 1],\n",
    "    }\n",
    "    X_train, X_test, y_train, y_test = train_test_split(X, y, test_size=0.1, random_state=0)\n",
    "\n",
    "    # select the top features with the highest MAD\n",
    "    feature_select = SelectKBest(fs_mad, k=n_feature_kept)\n",
    "\n",
    "    # Include loss='log' in param_grid doesn't work with pipeline somehow\n",
    "    clf = SGDClassifier(random_state=0, class_weight='balanced',\n",
    "                        loss=param_fixed['loss'], penalty=param_fixed['penalty'])\n",
    "\n",
    "    # joblib is used to cross-validate in parallel by setting `n_jobs=-1` in GridSearchCV\n",
    "    # Supress joblib warning. See https://github.com/scikit-learn/scikit-learn/issues/6370\n",
    "    warnings.filterwarnings('ignore', message='Changing the shape of non-C contiguous array')\n",
    "    clf_grid = grid_search.GridSearchCV(estimator=clf, param_grid=param_grid, n_jobs=-1, scoring='roc_auc')\n",
    "    pipeline = make_pipeline(\n",
    "        feature_select,  # Feature selection\n",
    "        StandardScaler(),  # Feature scaling\n",
    "        clf_grid)\n",
    "    pipeline.fit(X=X_train, y=y_train)\n",
    "    \n",
    "    y_pred_train = pipeline.decision_function(X_train)\n",
    "    y_pred_test = pipeline.decision_function(X_test)\n",
    "\n",
    "    metrics_train = get_threshold_metrics(y_train, y_pred_train)\n",
    "    metrics_test = get_threshold_metrics(y_test, y_pred_test)\n",
    "    \n",
    "    return metrics_train, metrics_test"
   ]
  },
  {
   "cell_type": "markdown",
   "metadata": {},
   "source": [
    "Now run on data with and without covariates. We'll drop the numeric covariates, since they contain Nan's that we haven't handled."
   ]
  },
  {
   "cell_type": "code",
   "execution_count": 14,
   "metadata": {
    "collapsed": false
   },
   "outputs": [],
   "source": [
    "expression_metrics_train, expression_metrics_test = gway_classifier(X, y)\n",
    "okay_covariates = covariates_df.drop(numeric_columns, axis=1)\n",
    "covariates_metrics_train, covariates_metrics_test = gway_classifier(pd.concat([X, okay_covariates], axis=1), y)"
   ]
  },
  {
   "cell_type": "markdown",
   "metadata": {},
   "source": [
    "And plot..."
   ]
  },
  {
   "cell_type": "code",
   "execution_count": 15,
   "metadata": {
    "collapsed": false
   },
   "outputs": [
    {
     "data": {
      "image/png": "[encoded data removed]",
      "text/plain": [
       "<matplotlib.figure.Figure at 0x7ff0f512bf98>"
      ]
     },
     "metadata": {},
     "output_type": "display_data"
    }
   ],
   "source": [
    "# Plot ROC\n",
    "plt.figure()\n",
    "labels = ('Without covariates (training)',\n",
    "          'Without covariates (testing)',\n",
    "          'With covariates (training)', \n",
    "          'With covariates (testing)')\n",
    "metrics = (expression_metrics_train,\n",
    "           expression_metrics_test,\n",
    "           covariates_metrics_train,\n",
    "           covariates_metrics_test)\n",
    "for label, metric in zip(labels, metrics):\n",
    "    roc_df = metric['roc_df']\n",
    "    plt.plot(roc_df.fpr, roc_df.tpr,\n",
    "        label='{} (AUROC = {:.1%})'.format(label, metric['auroc']))\n",
    "plt.xlim([0.0, 1.0])\n",
    "plt.ylim([0.0, 1.05])\n",
    "plt.xlabel('False Positive Rate')\n",
    "plt.ylabel('True Positive Rate')\n",
    "plt.title('Predicting TP53 mutation from gene expression (ROC curves)')\n",
    "plt.legend(loc='lower right');"
   ]
  },
  {
   "cell_type": "markdown",
   "metadata": {},
   "source": [
    "Unfortunately, the classifier does not even seem to notice the presence of the covariates. But this could be due to the MAD filtering step, lack of feature normalization, and plenty of other things. Curious to hear thoughts about where to go."
   ]
  }
 ],
 "metadata": {
  "kernelspec": {
   "display_name": "Python 3",
   "language": "python",
   "name": "python3"
  },
  "language_info": {
   "codemirror_mode": {
    "name": "ipython",
    "version": 3
   },
   "file_extension": ".py",
   "mimetype": "text/x-python",
   "name": "python",
   "nbconvert_exporter": "python",
   "pygments_lexer": "ipython3",
   "version": "3.5.1"
  }
 },
 "nbformat": 4,
 "nbformat_minor": 0
}
